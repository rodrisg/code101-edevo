{
 "cells": [
  {
   "cell_type": "markdown",
   "metadata": {
    "colab_type": "text",
    "id": "view-in-github"
   },
   "source": [
    "<a href=\"https://colab.research.google.com/github/Sidon/code101-edevo/blob/master/aula2/code101_aula2.ipynb\" target=\"_parent\"><img src=\"https://colab.research.google.com/assets/colab-badge.svg\" alt=\"Open In Colab\"/></a>"
   ]
  },
  {
   "cell_type": "markdown",
   "metadata": {
    "colab_type": "text",
    "id": "ud3W3Dw97_hF"
   },
   "source": [
    "# Alô, Mundo\n",
    "Python é uma linguagem simpes com uma sintaxe muito direta que encoraja o programador a programar sem a utilização de “codigos preparados” chamado na comunidade de **Boilerplate** (codigos que se repentem). A diretiva mais simples em python é a função print (comando no python 2.x, função no 3.x), que imprime uma linha, e, ao contrario de outras linguagens, inclui o avanço de linha.\n",
    "\n",
    "Existem 2 principais versões de Python, Python 2 e Pytnon 3 ainda com poucas diferenças mas que tende a aumentar. Este curso será baseado na versão 3 principalmente porque é mais semanticamente correto, segundo o proprio autor da linguagem, e suporta inumeras novas funcionalidades\n",
    "\n",
    "### Para imprimir uma string em python 3\n",
    "```\n",
    "print('Isto é uma string')\n",
    "Isto é uma string\n",
    "```\n"
   ]
  },
  {
   "cell_type": "markdown",
   "metadata": {
    "colab_type": "text",
    "id": "aElmcjbGTWeG"
   },
   "source": [
    "### Para o mesmo resultado em outras linuagens\n",
    "\n",
    "## Java\n",
    "\n",
    "```\n",
    "public class HelloWorld {\n",
    "    public static void main(String[] args) {\n",
    "         System.out.println(\"Hello, World\");\n",
    "    }\n",
    "\n",
    "}\n",
    "\n",
    "```\n",
    "\n",
    "##  C Sharp\n",
    "\n",
    "```\n",
    "using System;\n",
    "class Program\n",
    "{\n",
    "    public static void Main(string[] args)\n",
    "    {\n",
    "        Console.WriteLine(\"Hello, world!\");\n",
    "    }\n",
    "}\n",
    "```\n",
    "\n",
    "## Delphi\n",
    "```\n",
    "program HelloWorld;\n",
    "begin\n",
    "  Writeln('Hello, world!');\n",
    "end.\n",
    "```"
   ]
  },
  {
   "cell_type": "markdown",
   "metadata": {
    "colab_type": "text",
    "id": "TApMKZeK8_f8"
   },
   "source": [
    "### Exercicio:\n",
    "Uando a celula abaixo, apresente a linha “Alô, Mundo” utilizando a função ```print()``` do python"
   ]
  },
  {
   "cell_type": "code",
   "execution_count": null,
   "metadata": {},
   "outputs": [],
   "source": []
  },
  {
   "cell_type": "markdown",
   "metadata": {
    "colab": {},
    "colab_type": "code",
    "id": "mdxkYTvS9DLb"
   },
   "source": [
    "# Blocos de codigo e Identação\n",
    "\n",
    "A maioria das linguagens modernas suportam o conceito de blocos de codigo, um bloco define um fragmento de codigo que executa um procedimento especifico, por exemplo: Uma função, um loop, uma sequencia de comandos que responda a um teste condicional, etc. Na maioria das linguagens os blocos de códigos são delimitados por um caracter específico. Além disso é convenção organizar o codigo dentro dos blocos usando o espacamento para a organização visual, esse convenção é chamada de \"identação\" pela comunidade. O nível de identação é definido pelo número de espaços dentro dos blocos, ainda por convenção, uma vez definido esse nível, o mesmo deve ser mantido em todos arquivos de código, chamados de scripts, programas, units, etc."
   ]
  },
  {
   "cell_type": "markdown",
   "metadata": {},
   "source": [
    "### Exercício:\n",
    "Nos exemplos 'Hello World' acima, quais são os delimitadores de blocos? Quais foram os níveis de identação? \n",
    "Responda na célua abaixo:"
   ]
  },
  {
   "cell_type": "markdown",
   "metadata": {},
   "source": [
    "#### Delimitadores de blocos:\n",
    "Java:<br/>\n",
    "C#<br/>\n",
    "Delphi<br/>\n",
    "\n",
    "#### Níveis de identação:\n",
    "Java:<br/> \n",
    "C#:<br/> \n",
    "Delphi:<br/>"
   ]
  },
  {
   "cell_type": "markdown",
   "metadata": {
    "colab_type": "text",
    "id": "kOHyAqEa9495"
   },
   "source": [
    "# Variáveis e tipos\n",
    "Python é multiparadigma, isto é, suport os paradigmas de Orientação a objetos (OO), programação procedural e programação funcional, além disso ela não estaticamente tipada, isto é, não é preciso declarar uma variável, ou seu tipo, antes de usa-la. Apesar da característica multiparadigma, toda variável em python é um objeto. Nesse curso vamos ver  os tipos básico de variáveis:\n",
    "\n",
    "## Números:\n",
    "Python suporta dois tipos de números, Inteiros e ponto flutuante (Também suporta números complexos que não será objeto desse curso)"
   ]
  },
  {
   "cell_type": "markdown",
   "metadata": {
    "colab_type": "text",
    "id": "kOHyAqEa9495"
   },
   "source": [
    "### Números Inteiros:\n",
    "Para definir um numero inteiro, use a sintaxe:"
   ]
  },
  {
   "cell_type": "code",
   "execution_count": 0,
   "metadata": {
    "colab": {
     "base_uri": "https://localhost:8080/",
     "height": 34
    },
    "colab_type": "code",
    "id": "CROWcCPd-P4-",
    "outputId": "ccc3bc77-9f59-46cd-c533-b511147e5bf0"
   },
   "outputs": [
    {
     "name": "stdout",
     "output_type": "stream",
     "text": [
      "7\n"
     ]
    }
   ],
   "source": [
    "myint = 7\n",
    "print(myint)"
   ]
  },
  {
   "cell_type": "markdown",
   "metadata": {
    "colab_type": "text",
    "id": "f-zZC78x-q_N"
   },
   "source": [
    "## Números em ponto flutante:\n",
    "Para definir um numero em ponto flutuante, voce pode usar a seguintes notações:"
   ]
  },
  {
   "cell_type": "code",
   "execution_count": 0,
   "metadata": {
    "colab": {
     "base_uri": "https://localhost:8080/",
     "height": 52
    },
    "colab_type": "code",
    "id": "F7nTUspp-0Nb",
    "outputId": "ad7c6cd2-6048-4b7d-fa9c-9113888a20cd"
   },
   "outputs": [
    {
     "name": "stdout",
     "output_type": "stream",
     "text": [
      "7.0\n",
      "7.0\n"
     ]
    }
   ],
   "source": [
    "myfloat = 7.0\n",
    "print(myfloat)\n",
    "\n",
    "myfloat = float(7)\n",
    "print(myfloat)"
   ]
  },
  {
   "cell_type": "markdown",
   "metadata": {
    "colab_type": "text",
    "id": "rouwOyy29v6k"
   },
   "source": [
    "# Strings\n",
    "strings podem ser definidas com aspas duplas ou aspas simples\n",
    "\n",
    "```\n",
    "mystring = ‘hello’\n",
    "mystring= “hello”\n",
    "```\n",
    "\n",
    "Dessa forma é possível incluir em uma string aspas duplas e/ou simples, por exemplo:\n",
    "\n",
    "```\n",
    "mystr1 = 'Fazendo uma \"citação\"'\n",
    "mystr2 = “Fazendo uma ‘citação’” \n",
    "```\n"
   ]
  },
  {
   "cell_type": "markdown",
   "metadata": {
    "colab_type": "text",
    "id": "g5ziPkLVEeGp"
   },
   "source": [
    "### Exercício\n",
    "Crie duas variáveis do tipo string, uma contendo uma palavra entre aspas simples e outra contendo uma palavra entre aspas duplas. Apresente as duas variáveis com a função `print`"
   ]
  },
  {
   "cell_type": "code",
   "execution_count": 0,
   "metadata": {
    "colab": {},
    "colab_type": "code",
    "id": "Ju0VYsvfE_VX"
   },
   "outputs": [],
   "source": []
  },
  {
   "cell_type": "code",
   "execution_count": 0,
   "metadata": {
    "colab": {},
    "colab_type": "code",
    "id": "jtpW6bQCEg7g"
   },
   "outputs": [],
   "source": []
  },
  {
   "cell_type": "markdown",
   "metadata": {},
   "source": [
    "### Apresentando o tipo de uma variável:\n",
    "A função type apresenta o tipo de uma variavel, por exemplo:\n",
    "\n",
    "```\n",
    "nome = 'joão'\n",
    "print(type(nome))\n",
    "<class 'str'>\n",
    "```"
   ]
  },
  {
   "cell_type": "markdown",
   "metadata": {},
   "source": [
    "# Operadores básicos em python\n",
    "\n",
    "## Aritiméticos\n",
    "\n",
    "\\+ → soma<br/>\n",
    "– → subtração<br/>\n",
    "\\* → multiplicação<br/>\n",
    "/ → divisão<br/>\n",
    "// → divisão de inteiros<br/>\n",
    "** → potenciação<br/>\n",
    "% → módulo (resto da divisão)<br/>\n",
    "\n",
    "### Precedencia dos operadores:\n",
    "Quando mais de um operador aparece em um expressão, a ordem em que são realizadas as operações dependem das regras de precedência (rules of precedence). Python segue as regras de precedência dos seus operadores matemáticos da mesma forma que matemática.\n",
    "\n",
    "Parenteses tem a mais alta precedencia e em seguida multiplicação, divisão (mesma precedencia) e em seguida soma e subtração.\n",
    "\n",
    "\n",
    "### Exercicios\n",
    "Usando apenas codigo, responda as seguintes questões nas céluas abaixo, dica: use a funcção ```print```, informação adicional: `print` aceita mais de um parametro, ou seja mais de uma variável, por exemplo: algo como: ```print(A soma de a + b = ', a+b)```\n",
    "\n",
    "1 Crie duas variáveis: `x` e `y` atribuindo 5 para `x` e 3 para `y`;<br/>\n",
    "2 Apresente o resultado da soma de `x` e `y`;<br/>\n",
    "3 Crie uma terceira variável `z` e atribua o resultado da multiplicação de `x` por `y` a ela;<br/>\n",
    "4 Usando o operador de divisão de inteiros, divida x por y, atribua \\`a variável `j` e a apresente;<br/>\n",
    "5 Qual é o resto da divisão de `x` por `y`?<br/>\n",
    "6 Qual é o resultado de `x` elevado a segunda potencia (x elevado ao quadrado)?<br/>\n",
    "7 Qual é o resultado da soma de `x` com `y` subtraida de `z`?<br/>\n",
    "8 Qual é o resultado da divisão das duas operações anteriores?<br/>\n",
    "\n",
    "Crie, abaixo, quantas células forem necessárias para a realizaçõ dos exercícios."
   ]
  },
  {
   "cell_type": "code",
   "execution_count": null,
   "metadata": {},
   "outputs": [],
   "source": []
  },
  {
   "cell_type": "markdown",
   "metadata": {
    "colab_type": "text",
    "id": "--sl4mDY8g9e"
   },
   "source": [
    "# Identação no Python:\n",
    "A maioria das linguagens modernas exigem algum elemento visual para delimitar blocos, chaves para java e javascript, por exemplo, mas não exigem identação (blocos espaçados para indicar hierarquia ou escopo), Python, ao contrário, não suporta um caracter para delimitar blocos, ao invés disso, exige identação para isso. Por exemplo:\n",
    "\n",
    "```\n",
    "x = 1\n",
    "if x == 1:\n",
    "    # Identado em 4 espaços\n",
    "    print(\"x é 1\")\n",
    "    \n",
    "x é 1 \n",
    "```"
   ]
  },
  {
   "cell_type": "code",
   "execution_count": null,
   "metadata": {},
   "outputs": [],
   "source": []
  }
 ],
 "metadata": {
  "colab": {
   "include_colab_link": true,
   "name": "code101_aula2.ipynb",
   "provenance": [],
   "version": "0.3.2"
  },
  "kernelspec": {
   "display_name": "Python 3",
   "language": "python",
   "name": "python3"
  },
  "language_info": {
   "codemirror_mode": {
    "name": "ipython",
    "version": 3
   },
   "file_extension": ".py",
   "mimetype": "text/x-python",
   "name": "python",
   "nbconvert_exporter": "python",
   "pygments_lexer": "ipython3",
   "version": "3.7.1"
  }
 },
 "nbformat": 4,
 "nbformat_minor": 1
}
