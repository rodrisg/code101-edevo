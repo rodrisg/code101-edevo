{
 "cells": [
  {
   "cell_type": "markdown",
   "metadata": {},
   "source": [
    "# Respostas aos exercícios da aula 2"
   ]
  },
  {
   "cell_type": "markdown",
   "metadata": {},
   "source": [
    "### Exercicios \n",
    "Usando apenas codigo, responda as seguintes questões nas céluas abaixo, dica: use a funcção ```print```, informação adicional: `print` aceita mais de um parametro, ou seja mais de uma variável, por exemplo: algo como: ```print(A soma de a + b = ', a+b)```\n",
    "\n",
    "1 Crie duas variáveis: `x` e `y` atribuindo 5 para `x` e 3 para `y`;<br/>\n",
    "2 Apresente o resultado da soma de `x` e `y`;<br/>\n",
    "3 Crie uma terceira variável `z` e atribua o resultado da multiplicação de `x` por `y` a ela;<br/>\n",
    "4 Usando o operador de divisão de inteiros, divida x por y, atribua \\`a variável `j` e a apresente;<br/>\n",
    "5 Qual é o resto da divisão de `x` por `y`?<br/>\n",
    "6 Qual é o resultado de `x` elevado a segunda potencia (x elevado ao quadrado)?<br/>\n",
    "7 Qual é o resultado da soma de `x` com `y` subtraida de `z`?<br/>\n",
    "8 Qual é o resultado da divisão das duas operações anteriores?<br/>\n",
    "\n",
    "Crie, abaixo, quantas células forem necessárias para a realização dos exercícios."
   ]
  },
  {
   "cell_type": "code",
   "execution_count": 1,
   "metadata": {},
   "outputs": [],
   "source": [
    "# Criação de uma constante:\n",
    "STR1 = 'O resultado da operação:'"
   ]
  },
  {
   "cell_type": "code",
   "execution_count": 2,
   "metadata": {},
   "outputs": [],
   "source": [
    "# 1 Criar duas variáveis: x e y atribuindo 5 para x e 3 para y\n",
    "x = 5\n",
    "y = 3"
   ]
  },
  {
   "cell_type": "code",
   "execution_count": 3,
   "metadata": {},
   "outputs": [
    {
     "name": "stdout",
     "output_type": "stream",
     "text": [
      "O resultado da operação: soma de x e y é: 8\n"
     ]
    }
   ],
   "source": [
    "# 2 Apresentar o resultado da soma de x e y\n",
    "soma_x_com_y = x+y\n",
    "print(STR1, 'soma de x e y é:', soma_x_com_y)"
   ]
  },
  {
   "cell_type": "code",
   "execution_count": 4,
   "metadata": {},
   "outputs": [],
   "source": [
    "# 3 Criar uma terceira variável z e atribuir o resultado da multiplicação de x por y a ela\n",
    "z = x * y "
   ]
  },
  {
   "cell_type": "code",
   "execution_count": 5,
   "metadata": {},
   "outputs": [
    {
     "name": "stdout",
     "output_type": "stream",
     "text": [
      "O resultado da operação: divisão de inteiros de x por y:  1\n"
     ]
    }
   ],
   "source": [
    "# 4 Usando o operador de divisão de inteiros, divida x por y, atribua a variável j\n",
    "# e a apresente\n",
    "j = x // y\n",
    "print(STR1, 'divisão de inteiros de x por y: ', j)"
   ]
  },
  {
   "cell_type": "code",
   "execution_count": 6,
   "metadata": {},
   "outputs": [
    {
     "name": "stdout",
     "output_type": "stream",
     "text": [
      "O resto da divisão de x por y é: 2\n"
     ]
    }
   ],
   "source": [
    "# 5 Qual é o resto da divisão de x por y?\n",
    "resto_divisao_x_por_y = x % y\n",
    "print('O resto da divisão de x por y é:', resto_divisao_x_por_y)"
   ]
  },
  {
   "cell_type": "code",
   "execution_count": 7,
   "metadata": {},
   "outputs": [
    {
     "name": "stdout",
     "output_type": "stream",
     "text": [
      "O resultado da operação: x elevado a segunda potencia é: 25\n"
     ]
    }
   ],
   "source": [
    "# 6 Qual é o resultado de `x` elevado a segunda potencia (x elevado ao quadrado)?\n",
    "x_ao_quadrado = x**2\n",
    "print(STR1, 'x elevado a segunda potencia é:', x_ao_quadrado)"
   ]
  },
  {
   "cell_type": "code",
   "execution_count": 8,
   "metadata": {},
   "outputs": [
    {
     "name": "stdout",
     "output_type": "stream",
     "text": [
      "O resultado da operação: soma de x com y, subtraida de z é: 7\n"
     ]
    }
   ],
   "source": [
    "# 7 Qual é o resultado da soma de x com y subtraida de z?\n",
    "z_menos_x_mais_y = z - soma_x_com_y \n",
    "print(STR1, 'soma de x com y, subtraida de z é:', z_menos_x_mais_y)"
   ]
  },
  {
   "cell_type": "code",
   "execution_count": 9,
   "metadata": {},
   "outputs": [
    {
     "name": "stdout",
     "output_type": "stream",
     "text": [
      "O resultado da operação: divisao das 2 operacoes anteriores é: 0.28\n"
     ]
    }
   ],
   "source": [
    "# Exercício 8\n",
    "resultado_final = z_menos_x_mais_y  / x_ao_quadrado\n",
    "print(STR1, 'divisao das 2 operacoes anteriores é:', resultado_final)"
   ]
  }
 ],
 "metadata": {
  "kernelspec": {
   "display_name": "Python 3",
   "language": "python",
   "name": "python3"
  },
  "language_info": {
   "codemirror_mode": {
    "name": "ipython",
    "version": 3
   },
   "file_extension": ".py",
   "mimetype": "text/x-python",
   "name": "python",
   "nbconvert_exporter": "python",
   "pygments_lexer": "ipython3",
   "version": "3.7.1"
  }
 },
 "nbformat": 4,
 "nbformat_minor": 2
}
