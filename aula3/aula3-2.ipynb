{
 "cells": [
  {
   "cell_type": "markdown",
   "metadata": {},
   "source": [
    "# Aula 3-2"
   ]
  },
  {
   "cell_type": "markdown",
   "metadata": {},
   "source": [
    "# 1) `input()` Solicitando informações ao usuário \n",
    "\n",
    "```\n",
    "input(\"Mensagem ao usuário\")\n",
    "```\n",
    "\n",
    "A função `input()` permite, também, que a informação fornecida pelo usuário seja diretamente atribuida a uma variável:\n",
    "\n",
    "```\n",
    "variavel = input(\"Mensagem ao usuário\")\n",
    "```"
   ]
  },
  {
   "cell_type": "markdown",
   "metadata": {},
   "source": [
    "### Exercícios\n",
    "1) Crie um `input()` solcitando o nome do usuário<br/>\n",
    "1) Crie um `input()` solcitando o sobrenome do usuário<br/>\n",
    "2) Crie um `input()` solcitando a idade do usuário<br/>\n",
    "3) Crie um input solicitando o endereço do usuário<br/>\n",
    "4) Apresente as informações ao usuário perguntando se ele confirma: Olá <nomee /sobrenome do usuário>,\n",
    "   voce mora no endereço: <endereço do usuário> e tem n anos, voce confirma essas informações? "
   ]
  },
  {
   "cell_type": "markdown",
   "metadata": {},
   "source": [
    "# 2) Typecasting\n",
    "Type casting é a conversão de tipo, por exemplo, se uma variável for definida como `n='123'` o tipo dessa variável será string, se quisermos que ela se torne numérica inteira, bastaria fazer: `n=int(n)`\n",
    "\n",
    "## Função type\n",
    "A função type apresenta o tipo da variável, por exemplo:\n",
    "\n",
    "```\n",
    "v1 = 'Eu sou uma string'\n",
    "print(type(v1))\n",
    "<class 'str'>\n",
    "```\n",
    "\n",
    "<span style=\"background-color:yellow\">**Obs:<br/> Independente do que o usuário digite, a função input sempre retornará um tipo `str`.**</span>\n",
    "\n",
    "### Exercícios:\n",
    "1) Solicite um valor numérico ao usuário \n",
    "2) Considere que o usuário tenha digitado realmente um valor numerico, divida-o por 2\n",
    "3) Apresente na tela o tipo (função `type()`) do resultado obtido na questão anterior\n",
    "4) Atribua a uma variável o `type()` do resultado da seguinte operação: O valor que o usuário digitou na questão 1, multplicado pelo resultado da questão 2\n",
    "5) Tente 'adivinhar' qual é o type da variável criada na função 4, confirme com uma linha de codigo."
   ]
  },
  {
   "cell_type": "code",
   "execution_count": 1,
   "metadata": {},
   "outputs": [
    {
     "name": "stdout",
     "output_type": "stream",
     "text": [
      "Entre com um valor numerico inteiro55\n",
      "<class 'float'>\n",
      "<class 'type'>\n"
     ]
    }
   ],
   "source": [
    "## Respostas:\n",
    "# 1) Solicite um valor numérico ao usuário \n",
    "\n",
    "valor_usuario = int(input('Entre com um valor numerico inteiro'))\n",
    "\n",
    "# 2) Considere que o usuário tenha digitado realmente um valor numerico, divida-o por 2\n",
    "valor_div_2 = int(valor_usuario) / 2\n",
    "\n",
    "# 3) Apresente na tela o tipo (função `type()`) do resultado obtido na questão anterior\n",
    "print(type(valor_div_2))\n",
    "\n",
    "# 4) Atribua a uma variável o `type()` do resultado da seguinte operação: O valor que o \n",
    "#    usuário digitou na questão 1, multplicado pelo resultado da questão 2  \n",
    "tipo_q1_div_q2 = type(valor_usuario / valor_div_2)\n",
    "\n",
    "# 5) Tente 'adivinhar' qual é o type da variável criada na função 4, confirme com uma \n",
    "#    linha de codigo\n",
    "print(type(tipo_q1_div_q2))"
   ]
  },
  {
   "cell_type": "code",
   "execution_count": null,
   "metadata": {},
   "outputs": [],
   "source": []
  }
 ],
 "metadata": {
  "kernelspec": {
   "display_name": "Python 3",
   "language": "python",
   "name": "python3"
  },
  "language_info": {
   "codemirror_mode": {
    "name": "ipython",
    "version": 3
   },
   "file_extension": ".py",
   "mimetype": "text/x-python",
   "name": "python",
   "nbconvert_exporter": "python",
   "pygments_lexer": "ipython3",
   "version": "3.7.1"
  }
 },
 "nbformat": 4,
 "nbformat_minor": 2
}
