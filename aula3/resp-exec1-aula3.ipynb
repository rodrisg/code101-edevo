{
 "cells": [
  {
   "cell_type": "markdown",
   "metadata": {},
   "source": [
    "# Aula 3-3\n",
    "\n",
    "Resposta ao exercicio 1 da aula 3"
   ]
  },
  {
   "cell_type": "code",
   "execution_count": 3,
   "metadata": {},
   "outputs": [
    {
     "name": "stdout",
     "output_type": "stream",
     "text": [
      "Entre com um valor numerico inteiro: 12\n"
     ]
    }
   ],
   "source": [
    "## Respostas:\n",
    "# 1) Solicite um valor numérico ao usuário \n",
    "valor_usuario = int(input('Entre com um valor numerico inteiro: '))"
   ]
  },
  {
   "cell_type": "code",
   "execution_count": 4,
   "metadata": {},
   "outputs": [],
   "source": [
    "# 2) Considere que o usuário tenha digitado realmente um valor numerico, divida-o por 2\n",
    "valor_div_2 = int(valor_usuario) / 2"
   ]
  },
  {
   "cell_type": "code",
   "execution_count": 5,
   "metadata": {},
   "outputs": [
    {
     "name": "stdout",
     "output_type": "stream",
     "text": [
      "<class 'float'>\n"
     ]
    }
   ],
   "source": [
    "# 3) Apresente na tela o tipo (função `type()`) do resultado obtido na questão anterior\n",
    "print(type(valor_div_2))"
   ]
  },
  {
   "cell_type": "code",
   "execution_count": 6,
   "metadata": {},
   "outputs": [],
   "source": [
    "# 4) Atribua a uma variável o `type()` do resultado da seguinte operação: O valor que o \n",
    "#    usuário digitou na questão 1, multplicado pelo resultado da questão 2  \n",
    "tipo_q1_div_q2 = type(valor_usuario * valor_div_2)"
   ]
  },
  {
   "cell_type": "code",
   "execution_count": 7,
   "metadata": {},
   "outputs": [
    {
     "name": "stdout",
     "output_type": "stream",
     "text": [
      "<class 'type'>\n"
     ]
    }
   ],
   "source": [
    "# 5) Tente 'adivinhar' qual é o type da variável criada na função 4, confirme com uma \n",
    "#    linha de codigo\n",
    "print(type(tipo_q1_div_q2))"
   ]
  },
  {
   "cell_type": "code",
   "execution_count": null,
   "metadata": {},
   "outputs": [],
   "source": []
  }
 ],
 "metadata": {
  "kernelspec": {
   "display_name": "Python 3",
   "language": "python",
   "name": "python3"
  },
  "language_info": {
   "codemirror_mode": {
    "name": "ipython",
    "version": 3
   },
   "file_extension": ".py",
   "mimetype": "text/x-python",
   "name": "python",
   "nbconvert_exporter": "python",
   "pygments_lexer": "ipython3",
   "version": "3.7.1"
  }
 },
 "nbformat": 4,
 "nbformat_minor": 2
}
